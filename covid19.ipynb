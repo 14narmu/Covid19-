{
  "nbformat": 4,
  "nbformat_minor": 0,
  "metadata": {
    "colab": {
      "name": "covid19.ipynb",
      "provenance": []
    },
    "kernelspec": {
      "name": "python3",
      "display_name": "Python 3"
    }
  },
  "cells": [
    {
      "cell_type": "code",
      "metadata": {
        "id": "bPIdCmNmCLR4",
        "colab_type": "code",
        "colab": {
          "base_uri": "https://localhost:8080/",
          "height": 462
        },
        "outputId": "ddecf496-4b29-4824-c4ef-9c80ea69142b"
      },
      "source": [
        "! pip install jupyter-dash -q\n",
        "! pip install pyngrok"
      ],
      "execution_count": null,
      "outputs": [
        {
          "output_type": "stream",
          "text": [
            "\u001b[K     |████████████████████████████████| 51kB 3.2MB/s \n",
            "\u001b[K     |████████████████████████████████| 71kB 5.6MB/s \n",
            "\u001b[K     |████████████████████████████████| 1.2MB 17.0MB/s \n",
            "\u001b[K     |████████████████████████████████| 3.4MB 16.5MB/s \n",
            "\u001b[K     |████████████████████████████████| 194kB 52.8MB/s \n",
            "\u001b[K     |████████████████████████████████| 1.8MB 51.7MB/s \n",
            "\u001b[K     |████████████████████████████████| 358kB 53.7MB/s \n",
            "\u001b[?25h  Building wheel for dash (setup.py) ... \u001b[?25l\u001b[?25hdone\n",
            "  Building wheel for ansi2html (setup.py) ... \u001b[?25l\u001b[?25hdone\n",
            "  Building wheel for flask-compress (setup.py) ... \u001b[?25l\u001b[?25hdone\n",
            "  Building wheel for dash-renderer (setup.py) ... \u001b[?25l\u001b[?25hdone\n",
            "  Building wheel for dash-core-components (setup.py) ... \u001b[?25l\u001b[?25hdone\n",
            "  Building wheel for dash-html-components (setup.py) ... \u001b[?25l\u001b[?25hdone\n",
            "  Building wheel for dash-table (setup.py) ... \u001b[?25l\u001b[?25hdone\n",
            "Collecting pyngrok\n",
            "  Downloading https://files.pythonhosted.org/packages/05/4a/d16a3337672b5ca3ce5d67be9d26a62aecd4479785099b0a8ad40167e115/pyngrok-4.1.10.tar.gz\n",
            "Requirement already satisfied: future in /usr/local/lib/python3.6/dist-packages (from pyngrok) (0.16.0)\n",
            "Requirement already satisfied: PyYAML in /usr/local/lib/python3.6/dist-packages (from pyngrok) (3.13)\n",
            "Building wheels for collected packages: pyngrok\n",
            "  Building wheel for pyngrok (setup.py) ... \u001b[?25l\u001b[?25hdone\n",
            "  Created wheel for pyngrok: filename=pyngrok-4.1.10-cp36-none-any.whl size=16377 sha256=c3c1c16c6b0e45728d693e4568a3146948527c66138d8b040e776c7bf3c41abd\n",
            "  Stored in directory: /root/.cache/pip/wheels/0d/7f/06/e8079dd6f80eb6683fac47c4e1cb720b61cd82d6e4c13d87a5\n",
            "Successfully built pyngrok\n",
            "Installing collected packages: pyngrok\n",
            "Successfully installed pyngrok-4.1.10\n"
          ],
          "name": "stdout"
        }
      ]
    },
    {
      "cell_type": "code",
      "metadata": {
        "id": "aYaJesLvFAQC",
        "colab_type": "code",
        "colab": {}
      },
      "source": [
        "import plotly.express as px\n",
        "from jupyter_dash import JupyterDash\n",
        "import dash_core_components as dcc\n",
        "import dash_html_components as html\n",
        "import pandas as pd"
      ],
      "execution_count": null,
      "outputs": []
    },
    {
      "cell_type": "code",
      "metadata": {
        "id": "HcheqD7AFATC",
        "colab_type": "code",
        "colab": {}
      },
      "source": [
        "output=[]\n",
        "i=0"
      ],
      "execution_count": null,
      "outputs": []
    },
    {
      "cell_type": "markdown",
      "metadata": {
        "id": "1ESepSXiHdsG",
        "colab_type": "text"
      },
      "source": [
        "1. Country Wise Data Analysis on Covid-19 till date."
      ]
    },
    {
      "cell_type": "code",
      "metadata": {
        "id": "XE9damz-FSVP",
        "colab_type": "code",
        "colab": {
          "base_uri": "https://localhost:8080/",
          "height": 85
        },
        "outputId": "9d9d531d-1627-495a-c5a9-7c95d0b4fba2"
      },
      "source": [
        "df = pd.read_csv(\"/content/drive/My Drive/Colab Notebooks/covid_19_data.csv\")\n",
        "df.rename(columns={'Country/Region': \"Country\"}, inplace=True)\n",
        "world = df.groupby(\"Country\")['Confirmed','Recovered','Deaths'].sum().reset_index()\n",
        "fig =dcc.Graph(id=\"Graph\"+str(i),figure= px.choropleth(world,locations='Country', locationmode='country names', color='Confirmed', hover_name='Country', color_continuous_scale='tealgrn', range_color=[1,1000000],title=\"Country Wise Data Analysis on Covid-19 till date\"))\n",
        "output.append(fig)"
      ],
      "execution_count": null,
      "outputs": [
        {
          "output_type": "stream",
          "text": [
            "/usr/local/lib/python3.6/dist-packages/ipykernel_launcher.py:3: FutureWarning:\n",
            "\n",
            "Indexing with multiple keys (implicitly converted to a tuple of keys) will be deprecated, use a list instead.\n",
            "\n"
          ],
          "name": "stderr"
        }
      ]
    },
    {
      "cell_type": "markdown",
      "metadata": {
        "id": "XcsfUJhXFf8S",
        "colab_type": "text"
      },
      "source": [
        "2. Predict Day wise Covid-19 Cases."
      ]
    },
    {
      "cell_type": "code",
      "metadata": {
        "id": "PJ7s6FnSFSe-",
        "colab_type": "code",
        "colab": {}
      },
      "source": [
        "df[\"ObservationDate\"] = pd.DatetimeIndex(df[\"ObservationDate\"])\n",
        "fig2 = dcc.Graph(id='Graph'+str(i+1),figure = px.line(x=df['ObservationDate'], y=df['Confirmed'], labels={'x':'Observation Dates', 'y':'Number of Reports'},title='Reported Deaths Time Series'))\n",
        "output.append(fig2)"
      ],
      "execution_count": null,
      "outputs": []
    },
    {
      "cell_type": "markdown",
      "metadata": {
        "id": "BKuw8FlVFok6",
        "colab_type": "text"
      },
      "source": [
        "3.Time Series Data Analysis of Confirmed Cases till date on each Country (global)"
      ]
    },
    {
      "cell_type": "code",
      "metadata": {
        "id": "aHqtmyP2FlCK",
        "colab_type": "code",
        "colab": {
          "base_uri": "https://localhost:8080/",
          "height": 85
        },
        "outputId": "c4e73bb4-9873-4ad2-d1e6-d2c4884c3d7d"
      },
      "source": [
        "confirm_df = pd.read_csv(\"/content/drive/My Drive/Colab Notebooks/time_series_covid_19_confirmed.csv\")\n",
        "confirm_df.drop(['Province/State','Lat','Long'],axis=1,inplace=True)\n",
        "new_confirm_df = confirm_df.replace(0,pd.np.nan).dropna(axis=1)\n",
        "new_confirm_df=new_confirm_df.groupby(\"Country/Region\").sum()\n",
        "new_con_df = new_confirm_df['6/1/20']\n",
        "new_con_df = pd.DataFrame(new_con_df).reset_index()\n",
        "new_con_df.rename(columns={'Country/Region': \"Countries\",'6/1/20':'Confirmed Cases'},inplace=True)\n",
        "\n",
        "output.append(dcc.Graph(id='fig3',figure=px.line(new_con_df,x=new_con_df[\"Countries\"],y=new_con_df[\"Confirmed Cases\"],labels={'x':'Contries', 'y':'Confirmed Cases'},title='Time Series Analysis of Confirmed Cases')))"
      ],
      "execution_count": null,
      "outputs": [
        {
          "output_type": "stream",
          "text": [
            "/usr/local/lib/python3.6/dist-packages/ipykernel_launcher.py:3: FutureWarning:\n",
            "\n",
            "The pandas.np module is deprecated and will be removed from pandas in a future version. Import numpy directly instead\n",
            "\n"
          ],
          "name": "stderr"
        }
      ]
    },
    {
      "cell_type": "markdown",
      "metadata": {
        "id": "kOzLBlaSF10L",
        "colab_type": "text"
      },
      "source": [
        "4. Time series Data Analysis on Death cases till date global."
      ]
    },
    {
      "cell_type": "code",
      "metadata": {
        "id": "AuHEOPjWFlDk",
        "colab_type": "code",
        "colab": {}
      },
      "source": [
        "dead_df = pd.read_csv(\"/content/drive/My Drive/Colab Notebooks/time_series_covid_19_deaths.csv\")\n",
        "dead_df.drop(['Province/State','Lat','Long'],axis=1,inplace=True)\n",
        "new_dead_df=dead_df.groupby(\"Country/Region\").sum()\n",
        "new_de_df = new_dead_df['8/7/20']\n",
        "new_de_df = pd.DataFrame(new_de_df).reset_index()\n",
        "new_de_df.rename(columns={'Country/Region': \"Countries\",'8/7/20':'Death Cases'},inplace=True)\n",
        "output.append(dcc.Graph(id='fig4',figure=px.line(new_de_df,x=new_de_df[\"Countries\"],y=new_de_df[\"Death Cases\"],title='Time Series Analysis of Death Cases')))"
      ],
      "execution_count": null,
      "outputs": []
    },
    {
      "cell_type": "markdown",
      "metadata": {
        "id": "ruJvayuTGCMa",
        "colab_type": "text"
      },
      "source": [
        "5.Time Series Data Analysis on Recovered Cases till date global.\n",
        "[ ]\n"
      ]
    },
    {
      "cell_type": "code",
      "metadata": {
        "id": "83sBRnA8FlIL",
        "colab_type": "code",
        "colab": {}
      },
      "source": [
        "recover_df = pd.read_csv(\"/content/drive/My Drive/Colab Notebooks/time_series_covid_19_recovered.csv\")\n",
        "recover_df.drop(['Province/State','Lat','Long'],axis=1,inplace=True)\n",
        "new_recover_df=recover_df.groupby(\"Country/Region\").sum()\n",
        "new_re_df = new_recover_df['8/7/20']\n",
        "new_re_df = pd.DataFrame(new_re_df).reset_index()\n",
        "new_re_df.rename(columns={'Country/Region': \"Countries\",'8/7/20':'Recovered Cases'},inplace=True)\n",
        "new_re_df.head()\n",
        "output.append(dcc.Graph(id='fig5',figure=px.line(new_re_df,x=new_re_df[\"Countries\"],y=new_re_df[\"Recovered Cases\"],title='Time Series Analysis of Recovered Cases')))"
      ],
      "execution_count": null,
      "outputs": []
    },
    {
      "cell_type": "markdown",
      "metadata": {
        "id": "5QyImSaSGT0r",
        "colab_type": "text"
      },
      "source": [
        "6. Predict Age Cases on Covid-19 Between Age group."
      ]
    },
    {
      "cell_type": "code",
      "metadata": {
        "id": "UToIYpcTF_qS",
        "colab_type": "code",
        "colab": {}
      },
      "source": [
        "ac_df = pd.read_csv(\"/content/drive/My Drive/Colab Notebooks/COVID-19_Cases_Summarized_by_Age_Group.csv\")\n",
        "ac_df.drop(columns=[\"Specimen Collection Date\",'New Confirmed Cases','Last Updated at'],inplace=True)\n",
        "ac_df = ac_df.groupby(\"Age Group\").sum().reset_index()\n",
        "output.append(dcc.Graph(id='fig6',figure=px.line(ac_df,x=ac_df[\"Age Group\"],y=ac_df[\"Cumulative Confirmed Cases\"],title='Predict Age Cases on Covid-19 between Age Group')))"
      ],
      "execution_count": null,
      "outputs": []
    },
    {
      "cell_type": "markdown",
      "metadata": {
        "id": "ZiakD8LvGh6w",
        "colab_type": "text"
      },
      "source": [
        "7.Predict Highly affected Age Group on global."
      ]
    },
    {
      "cell_type": "code",
      "metadata": {
        "id": "iBpSZUdAF_sC",
        "colab_type": "code",
        "colab": {}
      },
      "source": [
        "ag_df = pd.read_csv(\"/content/drive/My Drive/Colab Notebooks/Provisional_COVID-19_Death_Counts_by_Sex__Age__and_State.csv\")\n",
        "ag_df = ag_df[[\"Age group\",\"COVID-19 Deaths\"]]\n",
        "ag_df = ag_df.groupby(\"Age group\").sum().reset_index()\n",
        "ag_df = ag_df.drop(ag_df.index[9:12])\n",
        "output.append(dcc.Graph(id='fig7',figure=px.line(ag_df,x=ag_df[\"Age group\"],y=ag_df[\"COVID-19 Deaths\"],title='Predicting Highly affected Age group due to Covid-19')))"
      ],
      "execution_count": null,
      "outputs": []
    },
    {
      "cell_type": "code",
      "metadata": {
        "id": "G_sEHIKpGuE7",
        "colab_type": "code",
        "colab": {}
      },
      "source": [
        "app = JupyterDash(__name__)"
      ],
      "execution_count": null,
      "outputs": []
    },
    {
      "cell_type": "code",
      "metadata": {
        "id": "m-QerJLHGuHz",
        "colab_type": "code",
        "colab": {}
      },
      "source": [
        "app.layout = html.Div(children=output)"
      ],
      "execution_count": null,
      "outputs": []
    },
    {
      "cell_type": "code",
      "metadata": {
        "id": "CYeH-4WJF_wm",
        "colab_type": "code",
        "colab": {
          "base_uri": "https://localhost:8080/",
          "height": 51
        },
        "outputId": "fcfcbc13-0b80-4e6e-a371-c2ca525fe51f"
      },
      "source": [
        "app.run_server(mode='external')"
      ],
      "execution_count": null,
      "outputs": [
        {
          "output_type": "stream",
          "text": [
            "Dash app running on:\n"
          ],
          "name": "stdout"
        },
        {
          "output_type": "display_data",
          "data": {
            "application/javascript": [
              "(async (port, path, text, element) => {\n",
              "    if (!google.colab.kernel.accessAllowed) {\n",
              "      return;\n",
              "    }\n",
              "    element.appendChild(document.createTextNode(''));\n",
              "    const url = await google.colab.kernel.proxyPort(port);\n",
              "    const anchor = document.createElement('a');\n",
              "    anchor.href = url + path;\n",
              "    anchor.target = '_blank';\n",
              "    anchor.setAttribute('data-href', url + path);\n",
              "    anchor.textContent = text;\n",
              "    element.appendChild(anchor);\n",
              "  })(8050, \"/\", \"http://127.0.0.1:8050/\", window.element)"
            ],
            "text/plain": [
              "<IPython.core.display.Javascript object>"
            ]
          },
          "metadata": {
            "tags": []
          }
        }
      ]
    },
    {
      "cell_type": "code",
      "metadata": {
        "id": "wzhjWSeWG52y",
        "colab_type": "code",
        "colab": {
          "base_uri": "https://localhost:8080/",
          "height": 35
        },
        "outputId": "fb8371fb-0373-412a-933a-2b883e4a5041"
      },
      "source": [
        "from pyngrok import ngrok\n",
        "ngrok.connect(port = '8050')"
      ],
      "execution_count": null,
      "outputs": [
        {
          "output_type": "stream",
          "text": [
            ""
          ],
          "name": "stdout"
        },
        {
          "output_type": "execute_result",
          "data": {
            "application/vnd.google.colaboratory.intrinsic+json": {
              "type": "string"
            },
            "text/plain": [
              "'http://476f18464f05.ngrok.io'"
            ]
          },
          "metadata": {
            "tags": []
          },
          "execution_count": 15
        }
      ]
    }
  ]
}